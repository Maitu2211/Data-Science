{
 "cells": [
  {
   "cell_type": "markdown",
   "id": "dbdee970-c16d-475c-b046-df28ecfa7284",
   "metadata": {},
   "source": [
    "# Data Science Tools and Ecosystem"
   ]
  },
  {
   "cell_type": "markdown",
   "id": "7fa0290c-d2b3-4cbf-8a26-349177fb141e",
   "metadata": {},
   "source": [
    "In this notebook, Data Science Tools and Ecosystem are summarized."
   ]
  },
  {
   "cell_type": "markdown",
   "id": "c7575817-e8f3-4a6d-b0b5-7b08830e5cd5",
   "metadata": {},
   "source": [
    "Some of the popular languages that Data Scientists use are:\n",
    "1. SQL\n",
    "2. Python\n",
    "3. R Programming"
   ]
  },
  {
   "cell_type": "markdown",
   "id": "9f5adc8f-8ca1-47a1-93ba-682cb36c349b",
   "metadata": {},
   "source": [
    "Some of the commonly used libraries used by Data Scientists include:\n",
    "1. Pandas\n",
    "2. NumPy\n",
    "3. SciPy"
   ]
  },
  {
   "cell_type": "markdown",
   "id": "66c64ee8-a558-47f5-88a9-4146eb214a5b",
   "metadata": {},
   "source": [
    "Data Science Tools | R Studio | Apache Spark | TensorFlow"
   ]
  },
  {
   "cell_type": "markdown",
   "id": "28304ed7-e6ac-4f0a-a70b-838701c081e4",
   "metadata": {},
   "source": [
    "### Below are a few examples of evaluating arithmetic expressions in Python"
   ]
  },
  {
   "cell_type": "code",
   "execution_count": 1,
   "id": "8014e54a-2037-4aca-a234-2cc940d8f966",
   "metadata": {
    "tags": []
   },
   "outputs": [
    {
     "data": {
      "text/plain": [
       "17"
      ]
     },
     "execution_count": 1,
     "metadata": {},
     "output_type": "execute_result"
    }
   ],
   "source": [
    "# This a simple arithmetic expression to mutiply then add integers\n",
    "\n",
    "(3*4)+5"
   ]
  },
  {
   "cell_type": "code",
   "execution_count": 2,
   "id": "a553c63e-8f18-487e-b876-96c142aac530",
   "metadata": {
    "tags": []
   },
   "outputs": [
    {
     "data": {
      "text/plain": [
       "3.3333333333333335"
      ]
     },
     "execution_count": 2,
     "metadata": {},
     "output_type": "execute_result"
    }
   ],
   "source": [
    "# This will convert 200 minutes to hours by diving by 60\n",
    "\n",
    "# Convert minutes to hours\n",
    "minutes = 200\n",
    "hours = minutes / 60\n",
    "\n",
    "# Display the result\n",
    "hours\n"
   ]
  },
  {
   "cell_type": "markdown",
   "id": "cbfe5aca-a314-46bd-ada7-96aa71378c88",
   "metadata": {},
   "source": [
    "**Objectives:**\n",
    "* JavaScript\n",
    "* Python\n",
    "* Scala\n",
    "* MATLAB"
   ]
  },
  {
   "cell_type": "markdown",
   "id": "481425bb-f05e-4377-9a2e-0689f0a34f52",
   "metadata": {},
   "source": [
    "## Author\n",
    "Maitry Patel"
   ]
  }
 ],
 "metadata": {
  "kernelspec": {
   "display_name": "Python",
   "language": "python",
   "name": "conda-env-python-py"
  },
  "language_info": {
   "codemirror_mode": {
    "name": "ipython",
    "version": 3
   },
   "file_extension": ".py",
   "mimetype": "text/x-python",
   "name": "python",
   "nbconvert_exporter": "python",
   "pygments_lexer": "ipython3",
   "version": "3.7.12"
  }
 },
 "nbformat": 4,
 "nbformat_minor": 5
}
